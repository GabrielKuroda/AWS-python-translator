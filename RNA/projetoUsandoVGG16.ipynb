{
 "cells": [
  {
   "cell_type": "code",
   "execution_count": 19,
   "metadata": {
    "id": "8IAWnkmfYBM-",
    "outputId": "2259613b-028e-4bfe-98de-758a3116ecdc"
   },
   "outputs": [],
   "source": [
    "import numpy as np\n",
    "import matplotlib.pyplot as plt\n",
    "import os\n",
    "import tensorflow as tf\n",
    "from keras.preprocessing import image\n",
    "from keras.models import Model\n",
    "from tensorflow.keras.applications.vgg16 import VGG16\n",
    "from tensorflow.keras.applications.vgg16 import preprocess_input\n",
    "from tensorflow.keras.layers import Dense, Flatten, Dropout, GlobalAveragePooling2D\n",
    "from tensorflow.keras.optimizers import Adam\n",
    "from tensorflow.keras.callbacks import ReduceLROnPlateau\n",
    "from tensorflow.keras.callbacks import ModelCheckpoint\n",
    "from tensorflow.keras.preprocessing.image import ImageDataGenerator\n",
    "\n",
    "#import PIL\n",
    "from tensorflow import keras"
   ]
  },
  {
   "cell_type": "code",
   "execution_count": 20,
   "metadata": {
    "id": "V_T1TfTtYBNG"
   },
   "outputs": [],
   "source": [
    "train_dir = 'D:\\\\dataset\\\\train'\n",
    "test_dir = 'D:\\\\dataset\\\\test'"
   ]
  },
  {
   "cell_type": "code",
   "execution_count": 21,
   "metadata": {
    "id": "beSHKRebYBNH",
    "outputId": "d087c060-a6e7-4f3d-cb6d-660e3a2dcc0c",
    "scrolled": true
   },
   "outputs": [
    {
     "name": "stdout",
     "output_type": "stream",
     "text": [
      "D:\\dataset\\train\\abelha: 1068\n",
      "D:\\dataset\\train\\aranha: 1206\n",
      "D:\\dataset\\train\\bicicleta: 1074\n",
      "D:\\dataset\\train\\borboleta: 769\n",
      "D:\\dataset\\train\\cachorro: 1001\n",
      "D:\\dataset\\train\\carro: 1155\n",
      "D:\\dataset\\train\\cavalo: 1067\n",
      "D:\\dataset\\train\\coelho: 952\n",
      "D:\\dataset\\train\\dente-de-leao: 922\n",
      "D:\\dataset\\train\\elefante: 1092\n",
      "D:\\dataset\\train\\esquilo: 1038\n",
      "D:\\dataset\\train\\gafanhoto: 830\n",
      "D:\\dataset\\train\\galinha: 1014\n",
      "D:\\dataset\\train\\gato: 1001\n",
      "D:\\dataset\\train\\girafa: 1057\n",
      "D:\\dataset\\train\\girassol: 603\n",
      "D:\\dataset\\train\\hamster: 673\n",
      "D:\\dataset\\train\\joaninha: 734\n",
      "D:\\dataset\\train\\leao: 912\n",
      "D:\\dataset\\train\\libelula: 906\n",
      "D:\\dataset\\train\\margarida: 634\n",
      "D:\\dataset\\train\\monitor: 112\n",
      "D:\\dataset\\train\\mosquito: 560\n",
      "D:\\dataset\\train\\moto: 564\n",
      "D:\\dataset\\train\\mouse: 50\n",
      "D:\\dataset\\train\\ovelha: 1098\n",
      "D:\\dataset\\train\\panda: 760\n",
      "D:\\dataset\\train\\rosa: 654\n",
      "D:\\dataset\\train\\tartaruga: 1026\n",
      "D:\\dataset\\train\\teclado: 49\n",
      "D:\\dataset\\train\\tulipa: 854\n",
      "D:\\dataset\\train\\vaca: 1104\n",
      "D:\\dataset\\train\\veado: 1036\n",
      "D:\\dataset\\train\\zebra: 1098\n",
      "Total = 28673\n"
     ]
    }
   ],
   "source": [
    "num_train = 0\n",
    "counts = {}\n",
    "for root, dirs, files in os.walk(train_dir):\n",
    "    if not dirs:\n",
    "        print(f'{root}: {len(files)}')\n",
    "        counts[root] = len(files)\n",
    "        num_train += len(files)\n",
    "print(f'Total = {num_train}')"
   ]
  },
  {
   "cell_type": "code",
   "execution_count": 22,
   "metadata": {
    "id": "IVbw345QYBNJ",
    "outputId": "da896ba3-0089-455b-f2dd-a18aa32d95ae"
   },
   "outputs": [
    {
     "name": "stdout",
     "output_type": "stream",
     "text": [
      "D:\\dataset\\test\\abelha: 119\n",
      "D:\\dataset\\test\\aranha: 123\n",
      "D:\\dataset\\test\\bicicleta: 120\n",
      "D:\\dataset\\test\\borboleta: 130\n",
      "D:\\dataset\\test\\cachorro: 255\n",
      "D:\\dataset\\test\\carro: 251\n",
      "D:\\dataset\\test\\cavalo: 120\n",
      "D:\\dataset\\test\\coelho: 136\n",
      "D:\\dataset\\test\\dente-de-leao: 130\n",
      "D:\\dataset\\test\\elefante: 119\n",
      "D:\\dataset\\test\\esquilo: 114\n",
      "D:\\dataset\\test\\gafanhoto: 130\n",
      "D:\\dataset\\test\\galinha: 110\n",
      "D:\\dataset\\test\\gato: 255\n",
      "D:\\dataset\\test\\girafa: 145\n",
      "D:\\dataset\\test\\girassol: 130\n",
      "D:\\dataset\\test\\hamster: 106\n",
      "D:\\dataset\\test\\joaninha: 130\n",
      "D:\\dataset\\test\\leao: 107\n",
      "D:\\dataset\\test\\libelula: 130\n",
      "D:\\dataset\\test\\margarida: 130\n",
      "D:\\dataset\\test\\monitor: 13\n",
      "D:\\dataset\\test\\mosquito: 130\n",
      "D:\\dataset\\test\\moto: 108\n",
      "D:\\dataset\\test\\mouse: 10\n",
      "D:\\dataset\\test\\ovelha: 120\n",
      "D:\\dataset\\test\\panda: 114\n",
      "D:\\dataset\\test\\rosa: 130\n",
      "D:\\dataset\\test\\tartaruga: 114\n",
      "D:\\dataset\\test\\teclado: 11\n",
      "D:\\dataset\\test\\tulipa: 130\n",
      "D:\\dataset\\test\\vaca: 114\n",
      "D:\\dataset\\test\\veado: 308\n",
      "D:\\dataset\\test\\zebra: 140\n",
      "Total = 4432\n"
     ]
    }
   ],
   "source": [
    "num_val = 0\n",
    "counts = {}\n",
    "for root, dirs, files in os.walk(test_dir):\n",
    "    if not dirs:\n",
    "        print(f'{root}: {len(files)}')\n",
    "        counts[root] = len(files)\n",
    "        num_val += len(files)\n",
    "print(f'Total = {num_val}')"
   ]
  },
  {
   "cell_type": "code",
   "execution_count": 23,
   "metadata": {
    "id": "po2oPzCpYBNK",
    "scrolled": true
   },
   "outputs": [],
   "source": [
    "IMAGE_SIZE = [130, 130]\n",
    "#instanciamento do modelo VGG16\n",
    "vgg = VGG16(input_shape=IMAGE_SIZE + [3], weights='imagenet', include_top=False)"
   ]
  },
  {
   "cell_type": "code",
   "execution_count": 24,
   "metadata": {
    "id": "bonRgdIwYBNL"
   },
   "outputs": [],
   "source": [
    "for layer in vgg.layers:\n",
    "    layer.trainable = False"
   ]
  },
  {
   "cell_type": "code",
   "execution_count": 26,
   "metadata": {
    "id": "OWA5zCYKYBNO"
   },
   "outputs": [],
   "source": [
    "#adicionando novas camadas para a rede\n",
    "x = vgg.output\n",
    "x = GlobalAveragePooling2D()(x)\n",
    "prediction = Dense(512, activation='relu', kernel_initializer='he_normal')(x)\n",
    "#camada de exclusao: ativa e desativa unidades de entrada, no que ajuda a evitar overfitting\n",
    "prediction = Dropout(0.25)(prediction)\n",
    "prediction = Dense(34, activation='softmax')(x)"
   ]
  },
  {
   "cell_type": "code",
   "execution_count": 27,
   "metadata": {
    "id": "XwZXEicqYBNP"
   },
   "outputs": [],
   "source": [
    "#juntando os modelos, formando um novo modelo\n",
    "model = Model(inputs=vgg.input, outputs=prediction)"
   ]
  },
  {
   "cell_type": "code",
   "execution_count": 28,
   "metadata": {
    "id": "HLmuzX5XYBNQ",
    "outputId": "c8688f1d-81a8-458b-d84c-15f7b2e5b320",
    "scrolled": true
   },
   "outputs": [
    {
     "name": "stdout",
     "output_type": "stream",
     "text": [
      "Model: \"model_1\"\n",
      "_________________________________________________________________\n",
      "Layer (type)                 Output Shape              Param #   \n",
      "=================================================================\n",
      "input_2 (InputLayer)         [(None, 130, 130, 3)]     0         \n",
      "_________________________________________________________________\n",
      "block1_conv1 (Conv2D)        (None, 130, 130, 64)      1792      \n",
      "_________________________________________________________________\n",
      "block1_conv2 (Conv2D)        (None, 130, 130, 64)      36928     \n",
      "_________________________________________________________________\n",
      "block1_pool (MaxPooling2D)   (None, 65, 65, 64)        0         \n",
      "_________________________________________________________________\n",
      "block2_conv1 (Conv2D)        (None, 65, 65, 128)       73856     \n",
      "_________________________________________________________________\n",
      "block2_conv2 (Conv2D)        (None, 65, 65, 128)       147584    \n",
      "_________________________________________________________________\n",
      "block2_pool (MaxPooling2D)   (None, 32, 32, 128)       0         \n",
      "_________________________________________________________________\n",
      "block3_conv1 (Conv2D)        (None, 32, 32, 256)       295168    \n",
      "_________________________________________________________________\n",
      "block3_conv2 (Conv2D)        (None, 32, 32, 256)       590080    \n",
      "_________________________________________________________________\n",
      "block3_conv3 (Conv2D)        (None, 32, 32, 256)       590080    \n",
      "_________________________________________________________________\n",
      "block3_pool (MaxPooling2D)   (None, 16, 16, 256)       0         \n",
      "_________________________________________________________________\n",
      "block4_conv1 (Conv2D)        (None, 16, 16, 512)       1180160   \n",
      "_________________________________________________________________\n",
      "block4_conv2 (Conv2D)        (None, 16, 16, 512)       2359808   \n",
      "_________________________________________________________________\n",
      "block4_conv3 (Conv2D)        (None, 16, 16, 512)       2359808   \n",
      "_________________________________________________________________\n",
      "block4_pool (MaxPooling2D)   (None, 8, 8, 512)         0         \n",
      "_________________________________________________________________\n",
      "block5_conv1 (Conv2D)        (None, 8, 8, 512)         2359808   \n",
      "_________________________________________________________________\n",
      "block5_conv2 (Conv2D)        (None, 8, 8, 512)         2359808   \n",
      "_________________________________________________________________\n",
      "block5_conv3 (Conv2D)        (None, 8, 8, 512)         2359808   \n",
      "_________________________________________________________________\n",
      "block5_pool (MaxPooling2D)   (None, 4, 4, 512)         0         \n",
      "_________________________________________________________________\n",
      "global_average_pooling2d_1 ( (None, 512)               0         \n",
      "_________________________________________________________________\n",
      "dense_3 (Dense)              (None, 34)                17442     \n",
      "=================================================================\n",
      "Total params: 14,732,130\n",
      "Trainable params: 17,442\n",
      "Non-trainable params: 14,714,688\n",
      "_________________________________________________________________\n"
     ]
    }
   ],
   "source": [
    "model.summary()\n"
   ]
  },
  {
   "cell_type": "code",
   "execution_count": 31,
   "metadata": {
    "id": "NgSaCUyKYBNT",
    "outputId": "35298a67-5c47-4bff-e93c-c92463268499"
   },
   "outputs": [
    {
     "name": "stdout",
     "output_type": "stream",
     "text": [
      "Found 28673 files belonging to 34 classes.\n",
      "Found 28673 images belonging to 34 classes.\n",
      "Found 4432 images belonging to 34 classes.\n"
     ]
    }
   ],
   "source": [
    "#padronização e gera o conjunto de dados desejado\n",
    "train_generator = tf.keras.preprocessing.image_dataset_from_directory(\n",
    "  train_dir,\n",
    "  seed=1337,\n",
    "  image_size=(130, 130),\n",
    "  batch_size=10)"
   ]
  },
  {
   "cell_type": "code",
   "execution_count": 32,
   "metadata": {
    "id": "MxtnjdDoYBNW",
    "outputId": "38b49d6a-00dd-4d42-98d5-7ae5e54b5c08"
   },
   "outputs": [
    {
     "name": "stdout",
     "output_type": "stream",
     "text": [
      "Found 4432 files belonging to 34 classes.\n"
     ]
    }
   ],
   "source": [
    "#padronização e gera o conjunto de dados desejado\n",
    "test_generator = tf.keras.preprocessing.image_dataset_from_directory(\n",
    "  test_dir,\n",
    "  seed=1337,\n",
    "  image_size=(130, 130),\n",
    "  batch_size=2)\n"
   ]
  },
  {
   "cell_type": "code",
   "execution_count": 33,
   "metadata": {
    "id": "oI28onrfYBNX",
    "outputId": "28ebfb90-1e72-4b48-8035-a6e4420ed50e",
    "scrolled": true
   },
   "outputs": [
    {
     "name": "stdout",
     "output_type": "stream",
     "text": [
      "['abelha', 'aranha', 'bicicleta', 'borboleta', 'cachorro', 'carro', 'cavalo', 'coelho', 'dente-de-leao', 'elefante', 'esquilo', 'gafanhoto', 'galinha', 'gato', 'girafa', 'girassol', 'hamster', 'joaninha', 'leao', 'libelula', 'margarida', 'monitor', 'mosquito', 'moto', 'mouse', 'ovelha', 'panda', 'rosa', 'tartaruga', 'teclado', 'tulipa', 'vaca', 'veado', 'zebra']\n"
     ]
    }
   ],
   "source": [
    "#separa os nomes das classes do dataset utilizado\n",
    "class_names = train_generator.class_names\n",
    "print(class_names)"
   ]
  },
  {
   "cell_type": "code",
   "execution_count": 34,
   "metadata": {
    "scrolled": true
   },
   "outputs": [],
   "source": [
    "checkpoint =  ModelCheckpoint('modelo_do_projetoTradutorV2.pth',monitor = 'val_loss', verbose =1,mode='min', save_best_only = True)\n",
    "#Reduza a taxa de aprendizagem quando uma métrica para de melhorar.\n",
    "reduceLROnPlat = ReduceLROnPlateau(monitor = 'val_loss',factor = 0.8, patience = 5,verbose = 1, mode='auto',min_delta = 0.0001,cooldown=3, min_lr = 0.0001)"
   ]
  },
  {
   "cell_type": "code",
   "execution_count": 35,
   "metadata": {},
   "outputs": [],
   "source": [
    "callbacks_list = [checkpoint,reduceLROnPlat]"
   ]
  },
  {
   "cell_type": "code",
   "execution_count": 36,
   "metadata": {
    "id": "1sIAuEGtYBNY",
    "scrolled": true
   },
   "outputs": [
    {
     "name": "stdout",
     "output_type": "stream",
     "text": [
      "Epoch 1/70\n"
     ]
    },
    {
     "name": "stderr",
     "output_type": "stream",
     "text": [
      "D:\\Anaconda\\lib\\site-packages\\keras\\optimizer_v2\\optimizer_v2.py:355: UserWarning: The `lr` argument is deprecated, use `learning_rate` instead.\n",
      "  warnings.warn(\n",
      "D:\\Anaconda\\lib\\site-packages\\keras\\engine\\training.py:1972: UserWarning: `Model.fit_generator` is deprecated and will be removed in a future version. Please use `Model.fit`, which supports generators.\n",
      "  warnings.warn('`Model.fit_generator` is deprecated and '\n"
     ]
    },
    {
     "name": "stdout",
     "output_type": "stream",
     "text": [
      "717/717 [==============================] - 803s 1s/step - loss: 13.9850 - accuracy: 0.1086 - val_loss: 9.2137 - val_accuracy: 0.2272\n",
      "\n",
      "Epoch 00001: val_loss improved from inf to 9.21373, saving model to modelo_do_projetoTradutorV2.pth\n",
      "INFO:tensorflow:Assets written to: modelo_do_projetoTradutorV2.pth\\assets\n",
      "Epoch 2/70\n",
      "717/717 [==============================] - 834s 1s/step - loss: 7.0024 - accuracy: 0.3138 - val_loss: 5.5886 - val_accuracy: 0.4052\n",
      "\n",
      "Epoch 00002: val_loss improved from 9.21373 to 5.58858, saving model to modelo_do_projetoTradutorV2.pth\n",
      "INFO:tensorflow:Assets written to: modelo_do_projetoTradutorV2.pth\\assets\n",
      "Epoch 3/70\n",
      "717/717 [==============================] - 828s 1s/step - loss: 4.6823 - accuracy: 0.4478 - val_loss: 4.1173 - val_accuracy: 0.5074\n",
      "\n",
      "Epoch 00003: val_loss improved from 5.58858 to 4.11733, saving model to modelo_do_projetoTradutorV2.pth\n",
      "INFO:tensorflow:Assets written to: modelo_do_projetoTradutorV2.pth\\assets\n",
      "Epoch 4/70\n",
      "717/717 [==============================] - 834s 1s/step - loss: 3.5913 - accuracy: 0.5394 - val_loss: 3.2270 - val_accuracy: 0.5760\n",
      "\n",
      "Epoch 00004: val_loss improved from 4.11733 to 3.22698, saving model to modelo_do_projetoTradutorV2.pth\n",
      "INFO:tensorflow:Assets written to: modelo_do_projetoTradutorV2.pth\\assets\n",
      "Epoch 5/70\n",
      "717/717 [==============================] - 833s 1s/step - loss: 2.8805 - accuracy: 0.5961 - val_loss: 2.7601 - val_accuracy: 0.6180\n",
      "\n",
      "Epoch 00005: val_loss improved from 3.22698 to 2.76009, saving model to modelo_do_projetoTradutorV2.pth\n",
      "INFO:tensorflow:Assets written to: modelo_do_projetoTradutorV2.pth\\assets\n",
      "Epoch 6/70\n",
      "717/717 [==============================] - 833s 1s/step - loss: 2.4990 - accuracy: 0.6388 - val_loss: 2.4217 - val_accuracy: 0.6514\n",
      "\n",
      "Epoch 00006: val_loss improved from 2.76009 to 2.42168, saving model to modelo_do_projetoTradutorV2.pth\n",
      "INFO:tensorflow:Assets written to: modelo_do_projetoTradutorV2.pth\\assets\n",
      "Epoch 7/70\n",
      "717/717 [==============================] - 831s 1s/step - loss: 2.2039 - accuracy: 0.6671 - val_loss: 2.2201 - val_accuracy: 0.6751\n",
      "\n",
      "Epoch 00007: val_loss improved from 2.42168 to 2.22012, saving model to modelo_do_projetoTradutorV2.pth\n",
      "INFO:tensorflow:Assets written to: modelo_do_projetoTradutorV2.pth\\assets\n",
      "Epoch 8/70\n",
      "717/717 [==============================] - 831s 1s/step - loss: 2.0178 - accuracy: 0.6906 - val_loss: 1.9833 - val_accuracy: 0.6968\n",
      "\n",
      "Epoch 00008: val_loss improved from 2.22012 to 1.98334, saving model to modelo_do_projetoTradutorV2.pth\n",
      "INFO:tensorflow:Assets written to: modelo_do_projetoTradutorV2.pth\\assets\n",
      "Epoch 9/70\n",
      "717/717 [==============================] - 824s 1s/step - loss: 1.7807 - accuracy: 0.7148 - val_loss: 1.8489 - val_accuracy: 0.7121\n",
      "\n",
      "Epoch 00009: val_loss improved from 1.98334 to 1.84891, saving model to modelo_do_projetoTradutorV2.pth\n",
      "INFO:tensorflow:Assets written to: modelo_do_projetoTradutorV2.pth\\assets\n",
      "Epoch 10/70\n",
      "717/717 [==============================] - 837s 1s/step - loss: 1.6326 - accuracy: 0.7269 - val_loss: 1.7600 - val_accuracy: 0.7198\n",
      "\n",
      "Epoch 00010: val_loss improved from 1.84891 to 1.75996, saving model to modelo_do_projetoTradutorV2.pth\n",
      "INFO:tensorflow:Assets written to: modelo_do_projetoTradutorV2.pth\\assets\n",
      "Epoch 11/70\n",
      "717/717 [==============================] - 828s 1s/step - loss: 1.5183 - accuracy: 0.7385 - val_loss: 1.6869 - val_accuracy: 0.7349\n",
      "\n",
      "Epoch 00011: val_loss improved from 1.75996 to 1.68687, saving model to modelo_do_projetoTradutorV2.pth\n",
      "INFO:tensorflow:Assets written to: modelo_do_projetoTradutorV2.pth\\assets\n",
      "Epoch 12/70\n",
      "717/717 [==============================] - 830s 1s/step - loss: 1.4847 - accuracy: 0.7514 - val_loss: 1.5675 - val_accuracy: 0.7477\n",
      "\n",
      "Epoch 00012: val_loss improved from 1.68687 to 1.56749, saving model to modelo_do_projetoTradutorV2.pth\n",
      "INFO:tensorflow:Assets written to: modelo_do_projetoTradutorV2.pth\\assets\n",
      "Epoch 13/70\n",
      "717/717 [==============================] - 838s 1s/step - loss: 1.3234 - accuracy: 0.7644 - val_loss: 1.5168 - val_accuracy: 0.7527\n",
      "\n",
      "Epoch 00013: val_loss improved from 1.56749 to 1.51681, saving model to modelo_do_projetoTradutorV2.pth\n",
      "INFO:tensorflow:Assets written to: modelo_do_projetoTradutorV2.pth\\assets\n",
      "Epoch 14/70\n",
      "717/717 [==============================] - 829s 1s/step - loss: 1.2435 - accuracy: 0.7736 - val_loss: 1.4671 - val_accuracy: 0.7583\n",
      "\n",
      "Epoch 00014: val_loss improved from 1.51681 to 1.46713, saving model to modelo_do_projetoTradutorV2.pth\n",
      "INFO:tensorflow:Assets written to: modelo_do_projetoTradutorV2.pth\\assets\n",
      "Epoch 15/70\n",
      "717/717 [==============================] - 815s 1s/step - loss: 1.1748 - accuracy: 0.7778 - val_loss: 1.4641 - val_accuracy: 0.7604\n",
      "\n",
      "Epoch 00015: val_loss improved from 1.46713 to 1.46414, saving model to modelo_do_projetoTradutorV2.pth\n",
      "INFO:tensorflow:Assets written to: modelo_do_projetoTradutorV2.pth\\assets\n",
      "Epoch 16/70\n",
      "717/717 [==============================] - 820s 1s/step - loss: 1.1810 - accuracy: 0.7846 - val_loss: 1.3633 - val_accuracy: 0.7696\n",
      "\n",
      "Epoch 00016: val_loss improved from 1.46414 to 1.36326, saving model to modelo_do_projetoTradutorV2.pth\n",
      "INFO:tensorflow:Assets written to: modelo_do_projetoTradutorV2.pth\\assets\n",
      "Epoch 17/70\n",
      "717/717 [==============================] - 834s 1s/step - loss: 1.0702 - accuracy: 0.7907 - val_loss: 1.3380 - val_accuracy: 0.7719\n",
      "\n",
      "Epoch 00017: val_loss improved from 1.36326 to 1.33800, saving model to modelo_do_projetoTradutorV2.pth\n",
      "INFO:tensorflow:Assets written to: modelo_do_projetoTradutorV2.pth\\assets\n",
      "Epoch 18/70\n",
      "717/717 [==============================] - 829s 1s/step - loss: 1.0057 - accuracy: 0.8036 - val_loss: 1.3093 - val_accuracy: 0.7782\n",
      "\n",
      "Epoch 00018: val_loss improved from 1.33800 to 1.30927, saving model to modelo_do_projetoTradutorV2.pth\n",
      "INFO:tensorflow:Assets written to: modelo_do_projetoTradutorV2.pth\\assets\n",
      "Epoch 19/70\n",
      "717/717 [==============================] - 831s 1s/step - loss: 0.9586 - accuracy: 0.8040 - val_loss: 1.3178 - val_accuracy: 0.7766\n",
      "\n",
      "Epoch 00019: val_loss did not improve from 1.30927\n",
      "Epoch 20/70\n",
      "717/717 [==============================] - 842s 1s/step - loss: 0.9777 - accuracy: 0.8071 - val_loss: 1.2496 - val_accuracy: 0.7820\n",
      "\n",
      "Epoch 00020: val_loss improved from 1.30927 to 1.24956, saving model to modelo_do_projetoTradutorV2.pth\n",
      "INFO:tensorflow:Assets written to: modelo_do_projetoTradutorV2.pth\\assets\n",
      "Epoch 21/70\n",
      "717/717 [==============================] - 831s 1s/step - loss: 0.9020 - accuracy: 0.8121 - val_loss: 1.2373 - val_accuracy: 0.7838\n",
      "\n",
      "Epoch 00021: val_loss improved from 1.24956 to 1.23733, saving model to modelo_do_projetoTradutorV2.pth\n",
      "INFO:tensorflow:Assets written to: modelo_do_projetoTradutorV2.pth\\assets\n",
      "Epoch 22/70\n",
      "717/717 [==============================] - 822s 1s/step - loss: 0.8423 - accuracy: 0.8251 - val_loss: 1.2043 - val_accuracy: 0.7884\n",
      "\n",
      "Epoch 00022: val_loss improved from 1.23733 to 1.20432, saving model to modelo_do_projetoTradutorV2.pth\n",
      "INFO:tensorflow:Assets written to: modelo_do_projetoTradutorV2.pth\\assets\n",
      "Epoch 23/70\n",
      "717/717 [==============================] - 816s 1s/step - loss: 0.8167 - accuracy: 0.8219 - val_loss: 1.2195 - val_accuracy: 0.7868\n",
      "\n",
      "Epoch 00023: val_loss did not improve from 1.20432\n",
      "Epoch 24/70\n",
      "717/717 [==============================] - 816s 1s/step - loss: 0.8351 - accuracy: 0.8249 - val_loss: 1.1726 - val_accuracy: 0.7877\n",
      "\n",
      "Epoch 00024: val_loss improved from 1.20432 to 1.17259, saving model to modelo_do_projetoTradutorV2.pth\n",
      "INFO:tensorflow:Assets written to: modelo_do_projetoTradutorV2.pth\\assets\n",
      "Epoch 25/70\n",
      "717/717 [==============================] - 819s 1s/step - loss: 0.7789 - accuracy: 0.8312 - val_loss: 1.1657 - val_accuracy: 0.7956\n",
      "\n",
      "Epoch 00025: val_loss improved from 1.17259 to 1.16565, saving model to modelo_do_projetoTradutorV2.pth\n",
      "INFO:tensorflow:Assets written to: modelo_do_projetoTradutorV2.pth\\assets\n",
      "Epoch 26/70\n",
      "717/717 [==============================] - 802s 1s/step - loss: 0.7316 - accuracy: 0.8379 - val_loss: 1.1346 - val_accuracy: 0.7974\n",
      "\n",
      "Epoch 00026: val_loss improved from 1.16565 to 1.13462, saving model to modelo_do_projetoTradutorV2.pth\n",
      "INFO:tensorflow:Assets written to: modelo_do_projetoTradutorV2.pth\\assets\n",
      "Epoch 27/70\n",
      "717/717 [==============================] - 815s 1s/step - loss: 0.7028 - accuracy: 0.8382 - val_loss: 1.1435 - val_accuracy: 0.7940\n",
      "\n",
      "Epoch 00027: val_loss did not improve from 1.13462\n",
      "Epoch 28/70\n",
      "717/717 [==============================] - 815s 1s/step - loss: 0.7244 - accuracy: 0.8408 - val_loss: 1.1131 - val_accuracy: 0.7947\n",
      "\n",
      "Epoch 00028: val_loss improved from 1.13462 to 1.11308, saving model to modelo_do_projetoTradutorV2.pth\n",
      "INFO:tensorflow:Assets written to: modelo_do_projetoTradutorV2.pth\\assets\n",
      "Epoch 29/70\n",
      "717/717 [==============================] - 816s 1s/step - loss: 0.6894 - accuracy: 0.8444 - val_loss: 1.1131 - val_accuracy: 0.7987\n",
      "\n",
      "Epoch 00029: val_loss did not improve from 1.11308\n",
      "Epoch 30/70\n",
      "717/717 [==============================] - 829s 1s/step - loss: 0.6376 - accuracy: 0.8505 - val_loss: 1.0890 - val_accuracy: 0.8019\n",
      "\n",
      "Epoch 00030: val_loss improved from 1.11308 to 1.08899, saving model to modelo_do_projetoTradutorV2.pth\n",
      "INFO:tensorflow:Assets written to: modelo_do_projetoTradutorV2.pth\\assets\n",
      "Epoch 31/70\n",
      "717/717 [==============================] - 833s 1s/step - loss: 0.6212 - accuracy: 0.8520 - val_loss: 1.0986 - val_accuracy: 0.7994\n",
      "\n",
      "Epoch 00031: val_loss did not improve from 1.08899\n",
      "Epoch 32/70\n",
      "717/717 [==============================] - 925s 1s/step - loss: 0.6386 - accuracy: 0.8523 - val_loss: 1.0668 - val_accuracy: 0.8012\n",
      "\n",
      "Epoch 00032: val_loss improved from 1.08899 to 1.06680, saving model to modelo_do_projetoTradutorV2.pth\n",
      "INFO:tensorflow:Assets written to: modelo_do_projetoTradutorV2.pth\\assets\n",
      "Epoch 33/70\n",
      "717/717 [==============================] - 860s 1s/step - loss: 0.6127 - accuracy: 0.8566 - val_loss: 1.0767 - val_accuracy: 0.8017\n",
      "\n",
      "Epoch 00033: val_loss did not improve from 1.06680\n",
      "Epoch 34/70\n",
      "717/717 [==============================] - 888s 1s/step - loss: 0.5708 - accuracy: 0.8618 - val_loss: 1.0432 - val_accuracy: 0.8055\n",
      "\n",
      "Epoch 00034: val_loss improved from 1.06680 to 1.04315, saving model to modelo_do_projetoTradutorV2.pth\n",
      "INFO:tensorflow:Assets written to: modelo_do_projetoTradutorV2.pth\\assets\n",
      "Epoch 35/70\n",
      "717/717 [==============================] - 882s 1s/step - loss: 0.5475 - accuracy: 0.8636 - val_loss: 1.0640 - val_accuracy: 0.8037\n",
      "\n",
      "Epoch 00035: val_loss did not improve from 1.04315\n",
      "Epoch 36/70\n",
      "717/717 [==============================] - 969s 1s/step - loss: 0.5736 - accuracy: 0.8605 - val_loss: 1.0363 - val_accuracy: 0.8066\n",
      "\n",
      "Epoch 00036: val_loss improved from 1.04315 to 1.03629, saving model to modelo_do_projetoTradutorV2.pth\n",
      "INFO:tensorflow:Assets written to: modelo_do_projetoTradutorV2.pth\\assets\n",
      "Epoch 37/70\n",
      "717/717 [==============================] - 996s 1s/step - loss: 0.5561 - accuracy: 0.8675 - val_loss: 1.0416 - val_accuracy: 0.8055\n",
      "\n",
      "Epoch 00037: val_loss did not improve from 1.03629\n",
      "Epoch 38/70\n",
      "717/717 [==============================] - 1063s 1s/step - loss: 0.5160 - accuracy: 0.8732 - val_loss: 1.0144 - val_accuracy: 0.8084\n",
      "\n",
      "Epoch 00038: val_loss improved from 1.03629 to 1.01443, saving model to modelo_do_projetoTradutorV2.pth\n",
      "INFO:tensorflow:Assets written to: modelo_do_projetoTradutorV2.pth\\assets\n",
      "Epoch 39/70\n",
      "717/717 [==============================] - 961s 1s/step - loss: 0.4924 - accuracy: 0.8725 - val_loss: 1.0314 - val_accuracy: 0.8078\n",
      "\n",
      "Epoch 00039: val_loss did not improve from 1.01443\n",
      "Epoch 40/70\n",
      "717/717 [==============================] - 897s 1s/step - loss: 0.5152 - accuracy: 0.8703 - val_loss: 1.0076 - val_accuracy: 0.8107\n",
      "\n",
      "Epoch 00040: val_loss improved from 1.01443 to 1.00760, saving model to modelo_do_projetoTradutorV2.pth\n",
      "INFO:tensorflow:Assets written to: modelo_do_projetoTradutorV2.pth\\assets\n",
      "Epoch 41/70\n",
      "717/717 [==============================] - 885s 1s/step - loss: 0.5087 - accuracy: 0.8748 - val_loss: 1.0215 - val_accuracy: 0.8051\n",
      "\n",
      "Epoch 00041: val_loss did not improve from 1.00760\n",
      "Epoch 42/70\n",
      "717/717 [==============================] - 867s 1s/step - loss: 0.4646 - accuracy: 0.8791 - val_loss: 0.9929 - val_accuracy: 0.8073\n",
      "\n",
      "Epoch 00042: val_loss improved from 1.00760 to 0.99285, saving model to modelo_do_projetoTradutorV2.pth\n",
      "INFO:tensorflow:Assets written to: modelo_do_projetoTradutorV2.pth\\assets\n",
      "Epoch 43/70\n",
      "717/717 [==============================] - 879s 1s/step - loss: 0.4467 - accuracy: 0.8789 - val_loss: 1.0114 - val_accuracy: 0.8071\n",
      "\n",
      "Epoch 00043: val_loss did not improve from 0.99285\n",
      "Epoch 44/70\n",
      "717/717 [==============================] - 926s 1s/step - loss: 0.4751 - accuracy: 0.8784 - val_loss: 0.9886 - val_accuracy: 0.8105\n",
      "\n",
      "Epoch 00044: val_loss improved from 0.99285 to 0.98859, saving model to modelo_do_projetoTradutorV2.pth\n",
      "INFO:tensorflow:Assets written to: modelo_do_projetoTradutorV2.pth\\assets\n",
      "Epoch 45/70\n",
      "717/717 [==============================] - 842s 1s/step - loss: 0.4666 - accuracy: 0.8847 - val_loss: 1.0054 - val_accuracy: 0.8087\n",
      "\n",
      "Epoch 00045: val_loss did not improve from 0.98859\n",
      "Epoch 46/70\n",
      "717/717 [==============================] - 901s 1s/step - loss: 0.4305 - accuracy: 0.8884 - val_loss: 0.9763 - val_accuracy: 0.8118\n",
      "\n",
      "Epoch 00046: val_loss improved from 0.98859 to 0.97630, saving model to modelo_do_projetoTradutorV2.pth\n",
      "INFO:tensorflow:Assets written to: modelo_do_projetoTradutorV2.pth\\assets\n",
      "Epoch 47/70\n",
      "717/717 [==============================] - 906s 1s/step - loss: 0.4080 - accuracy: 0.8874 - val_loss: 0.9950 - val_accuracy: 0.8096\n",
      "\n",
      "Epoch 00047: val_loss did not improve from 0.97630\n",
      "Epoch 48/70\n",
      "717/717 [==============================] - 955s 1s/step - loss: 0.4381 - accuracy: 0.8830 - val_loss: 0.9746 - val_accuracy: 0.8139\n",
      "\n",
      "Epoch 00048: val_loss improved from 0.97630 to 0.97458, saving model to modelo_do_projetoTradutorV2.pth\n",
      "INFO:tensorflow:Assets written to: modelo_do_projetoTradutorV2.pth\\assets\n",
      "Epoch 49/70\n",
      "717/717 [==============================] - 912s 1s/step - loss: 0.4367 - accuracy: 0.8898 - val_loss: 0.9944 - val_accuracy: 0.8105\n",
      "\n",
      "Epoch 00049: val_loss did not improve from 0.97458\n",
      "Epoch 50/70\n",
      "717/717 [==============================] - 927s 1s/step - loss: 0.3992 - accuracy: 0.8930 - val_loss: 0.9556 - val_accuracy: 0.8148\n",
      "\n",
      "Epoch 00050: val_loss improved from 0.97458 to 0.95558, saving model to modelo_do_projetoTradutorV2.pth\n",
      "INFO:tensorflow:Assets written to: modelo_do_projetoTradutorV2.pth\\assets\n",
      "Epoch 51/70\n",
      "717/717 [==============================] - 869s 1s/step - loss: 0.3781 - accuracy: 0.8948 - val_loss: 0.9727 - val_accuracy: 0.8159\n",
      "\n",
      "Epoch 00051: val_loss did not improve from 0.95558\n",
      "Epoch 52/70\n",
      "717/717 [==============================] - 910s 1s/step - loss: 0.4070 - accuracy: 0.8903 - val_loss: 0.9582 - val_accuracy: 0.8168\n",
      "\n",
      "Epoch 00052: val_loss did not improve from 0.95558\n",
      "Epoch 53/70\n",
      "717/717 [==============================] - 920s 1s/step - loss: 0.4053 - accuracy: 0.8943 - val_loss: 0.9804 - val_accuracy: 0.8120\n",
      "\n",
      "Epoch 00053: val_loss did not improve from 0.95558\n",
      "Epoch 54/70\n",
      "717/717 [==============================] - 942s 1s/step - loss: 0.3760 - accuracy: 0.8980 - val_loss: 0.9548 - val_accuracy: 0.8148\n",
      "\n",
      "Epoch 00054: val_loss improved from 0.95558 to 0.95478, saving model to modelo_do_projetoTradutorV2.pth\n",
      "INFO:tensorflow:Assets written to: modelo_do_projetoTradutorV2.pth\\assets\n",
      "Epoch 55/70\n",
      "717/717 [==============================] - 919s 1s/step - loss: 0.3523 - accuracy: 0.8993 - val_loss: 0.9565 - val_accuracy: 0.8175\n",
      "\n",
      "Epoch 00055: val_loss did not improve from 0.95478\n",
      "Epoch 56/70\n",
      "717/717 [==============================] - 839s 1s/step - loss: 0.3810 - accuracy: 0.8943 - val_loss: 0.9526 - val_accuracy: 0.8177\n",
      "\n",
      "Epoch 00056: val_loss improved from 0.95478 to 0.95263, saving model to modelo_do_projetoTradutorV2.pth\n",
      "INFO:tensorflow:Assets written to: modelo_do_projetoTradutorV2.pth\\assets\n",
      "Epoch 57/70\n",
      "717/717 [==============================] - 836s 1s/step - loss: 0.3843 - accuracy: 0.9001 - val_loss: 0.9801 - val_accuracy: 0.8114\n",
      "\n",
      "Epoch 00057: val_loss did not improve from 0.95263\n",
      "Epoch 58/70\n",
      "717/717 [==============================] - 862s 1s/step - loss: 0.3539 - accuracy: 0.9026 - val_loss: 0.9425 - val_accuracy: 0.8159\n",
      "\n",
      "Epoch 00058: val_loss improved from 0.95263 to 0.94250, saving model to modelo_do_projetoTradutorV2.pth\n",
      "INFO:tensorflow:Assets written to: modelo_do_projetoTradutorV2.pth\\assets\n",
      "Epoch 59/70\n"
     ]
    },
    {
     "name": "stdout",
     "output_type": "stream",
     "text": [
      "717/717 [==============================] - 842s 1s/step - loss: 0.3303 - accuracy: 0.9056 - val_loss: 0.9559 - val_accuracy: 0.8166\n",
      "\n",
      "Epoch 00059: val_loss did not improve from 0.94250\n",
      "Epoch 60/70\n",
      "717/717 [==============================] - 838s 1s/step - loss: 0.3602 - accuracy: 0.9000 - val_loss: 0.9405 - val_accuracy: 0.8199\n",
      "\n",
      "Epoch 00060: val_loss improved from 0.94250 to 0.94050, saving model to modelo_do_projetoTradutorV2.pth\n",
      "INFO:tensorflow:Assets written to: modelo_do_projetoTradutorV2.pth\\assets\n",
      "Epoch 61/70\n",
      "717/717 [==============================] - 839s 1s/step - loss: 0.3647 - accuracy: 0.9036 - val_loss: 0.9605 - val_accuracy: 0.8157\n",
      "\n",
      "Epoch 00061: val_loss did not improve from 0.94050\n",
      "Epoch 62/70\n",
      "717/717 [==============================] - 954s 1s/step - loss: 0.3299 - accuracy: 0.9088 - val_loss: 0.9378 - val_accuracy: 0.8181\n",
      "\n",
      "Epoch 00062: val_loss improved from 0.94050 to 0.93783, saving model to modelo_do_projetoTradutorV2.pth\n",
      "INFO:tensorflow:Assets written to: modelo_do_projetoTradutorV2.pth\\assets\n",
      "Epoch 63/70\n",
      "717/717 [==============================] - 869s 1s/step - loss: 0.3165 - accuracy: 0.9095 - val_loss: 0.9428 - val_accuracy: 0.8168\n",
      "\n",
      "Epoch 00063: val_loss did not improve from 0.93783\n",
      "Epoch 64/70\n",
      "717/717 [==============================] - 853s 1s/step - loss: 0.3404 - accuracy: 0.9070 - val_loss: 0.9349 - val_accuracy: 0.8215\n",
      "\n",
      "Epoch 00064: val_loss improved from 0.93783 to 0.93487, saving model to modelo_do_projetoTradutorV2.pth\n",
      "INFO:tensorflow:Assets written to: modelo_do_projetoTradutorV2.pth\\assets\n",
      "Epoch 65/70\n",
      "717/717 [==============================] - 873s 1s/step - loss: 0.3505 - accuracy: 0.9073 - val_loss: 0.9685 - val_accuracy: 0.8175\n",
      "\n",
      "Epoch 00065: val_loss did not improve from 0.93487\n",
      "Epoch 66/70\n",
      "717/717 [==============================] - 877s 1s/step - loss: 0.3147 - accuracy: 0.9120 - val_loss: 0.9311 - val_accuracy: 0.8202\n",
      "\n",
      "Epoch 00066: val_loss improved from 0.93487 to 0.93107, saving model to modelo_do_projetoTradutorV2.pth\n",
      "INFO:tensorflow:Assets written to: modelo_do_projetoTradutorV2.pth\\assets\n",
      "Epoch 67/70\n",
      "717/717 [==============================] - 872s 1s/step - loss: 0.3010 - accuracy: 0.9130 - val_loss: 0.9373 - val_accuracy: 0.8184\n",
      "\n",
      "Epoch 00067: val_loss did not improve from 0.93107\n",
      "Epoch 68/70\n",
      "717/717 [==============================] - 828s 1s/step - loss: 0.3225 - accuracy: 0.9105 - val_loss: 0.9361 - val_accuracy: 0.8233\n",
      "\n",
      "Epoch 00068: val_loss did not improve from 0.93107\n",
      "Epoch 69/70\n",
      "717/717 [==============================] - 852s 1s/step - loss: 0.3304 - accuracy: 0.9089 - val_loss: 0.9602 - val_accuracy: 0.8170\n",
      "\n",
      "Epoch 00069: val_loss did not improve from 0.93107\n",
      "Epoch 70/70\n",
      "717/717 [==============================] - 832s 1s/step - loss: 0.3029 - accuracy: 0.9148 - val_loss: 0.9310 - val_accuracy: 0.8211\n",
      "\n",
      "Epoch 00070: val_loss improved from 0.93107 to 0.93105, saving model to modelo_do_projetoTradutorV2.pth\n",
      "INFO:tensorflow:Assets written to: modelo_do_projetoTradutorV2.pth\\assets\n"
     ]
    }
   ],
   "source": [
    "\n",
    "with tf.device(\"/GPU:0\"):\n",
    "#compilação do modelo criado  \n",
    "    model.compile(\n",
    "      loss='sparse_categorical_crossentropy',\n",
    "      optimizer=Adam(lr = 0.0001),\n",
    "      metrics=['accuracy']\n",
    "    )\n",
    "    \n",
    "#treinamento do modelo\n",
    "    model.fit_generator(\n",
    "      train_generator.repeat(),\n",
    "      validation_data=test_generator.repeat(),\n",
    "      epochs=70,\n",
    "      callbacks = callbacks_list,\n",
    "      steps_per_epoch=len(train_generator)/4,\n",
    "      validation_steps=len(test_generator)\n",
    "    )"
   ]
  },
  {
   "cell_type": "code",
   "execution_count": 59,
   "metadata": {
    "id": "g6IPfBcNYBNb",
    "outputId": "d9a81971-24c1-4543-83ba-c5ea5b622be5"
   },
   "outputs": [
    {
     "name": "stdout",
     "output_type": "stream",
     "text": [
      "leao\n",
      "7.61%\n",
      "<class 'numpy.ndarray'>\n",
      "(130, 130, 3)\n"
     ]
    },
    {
     "data": {
      "text/plain": [
       "<matplotlib.image.AxesImage at 0x238062d89a0>"
      ]
     },
     "execution_count": 59,
     "metadata": {},
     "output_type": "execute_result"
    },
    {
     "data": {
      "image/png": "[encoded data removed]",
      "text/plain": [
       "<Figure size 432x288 with 1 Axes>"
      ]
     },
     "metadata": {
      "needs_background": "light"
     },
     "output_type": "display_data"
    }
   ],
   "source": [
    "img = keras.preprocessing.image.load_img(\n",
    "    'D:\\\\dataset\\\\test\\\\leaojuba-cke.jpg', target_size=(130, 130)\n",
    ")\n",
    "\n",
    "img_array = keras.preprocessing.image.img_to_array(img)\n",
    "img_array = tf.expand_dims(img_array, 0) # Create a batch\n",
    "\n",
    "predictions = model.predict(img_array)\n",
    "score = tf.nn.softmax(predictions[0])\n",
    "\n",
    "print(class_names[np.argmax(score)])\n",
    "print(\"{:.2f}%\".format(100 * np.max(score)))\n",
    "\n",
    "x = image.img_to_array(img)\n",
    "print(type(x))\n",
    "print(x.shape)\n",
    "plt.imshow(x/255.)"
   ]
  },
  {
   "cell_type": "code",
   "execution_count": 38,
   "metadata": {
    "id": "qJdg8p0RYBNe"
   },
   "outputs": [
    {
     "name": "stdout",
     "output_type": "stream",
     "text": [
      "INFO:tensorflow:Assets written to: modeloSalvoProjeto34Classes.pth\\assets\n"
     ]
    }
   ],
   "source": [
    "model.save('modeloSalvoProjeto34Classes.pth')"
   ]
  },
  {
   "cell_type": "code",
   "execution_count": null,
   "metadata": {},
   "outputs": [],
   "source": []
  }
 ],
 "metadata": {
  "colab": {
   "name": "perifericosComTransferLearning.ipynb",
   "provenance": []
  },
  "kernelspec": {
   "display_name": "Python 3",
   "language": "python",
   "name": "python3"
  },
  "language_info": {
   "codemirror_mode": {
    "name": "ipython",
    "version": 3
   },
   "file_extension": ".py",
   "mimetype": "text/x-python",
   "name": "python",
   "nbconvert_exporter": "python",
   "pygments_lexer": "ipython3",
   "version": "3.8.5"
  }
 },
 "nbformat": 4,
 "nbformat_minor": 1
}
